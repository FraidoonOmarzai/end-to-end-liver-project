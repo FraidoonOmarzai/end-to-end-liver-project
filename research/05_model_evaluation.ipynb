{
 "cells": [
  {
   "cell_type": "code",
   "execution_count": 1,
   "metadata": {},
   "outputs": [
    {
     "name": "stdout",
     "output_type": "stream",
     "text": [
      "/home/techie/Desktop/general/end-to-end-liver-project/research\n"
     ]
    }
   ],
   "source": [
    "!pwd"
   ]
  },
  {
   "cell_type": "code",
   "execution_count": 2,
   "metadata": {},
   "outputs": [
    {
     "name": "stdout",
     "output_type": "stream",
     "text": [
      "/home/techie/Desktop/general/end-to-end-liver-project\n"
     ]
    }
   ],
   "source": [
    "import os\n",
    "\n",
    "os.chdir('../')\n",
    "!pwd"
   ]
  },
  {
   "cell_type": "code",
   "execution_count": 3,
   "metadata": {},
   "outputs": [],
   "source": [
    "os.environ[\"MLFLOW_TRACKING_URI\"]=\"https://dagshub.com/fraidoon_omarzai/end-to-end-liver-project.mlflow\"\n",
    "os.environ[\"MLFLOW_TRACKING_USERNAME\"]=\"fraidoon_omarzai\"\n",
    "os.environ[\"MLFLOW_TRACKING_PASSWORD\"]=\"bc25b16bd5206328d8899cf34377f26ad71d1420\""
   ]
  },
  {
   "cell_type": "code",
   "execution_count": 4,
   "metadata": {},
   "outputs": [],
   "source": [
    "from dataclasses import dataclass\n",
    "from pathlib import Path\n",
    "\n",
    "@dataclass\n",
    "class ModelEvaluationConfig:\n",
    "    root_dir: Path\n",
    "    test_path: Path\n",
    "    model_path: Path\n",
    "    metric_file_name: str\n",
    "    mlflow_uri: str\n",
    "    experiment_name: str\n",
    "    run_name: str\n",
    "    target: str\n",
    "    all_params: dict"
   ]
  },
  {
   "cell_type": "code",
   "execution_count": 5,
   "metadata": {},
   "outputs": [],
   "source": [
    "from liver.constants import *\n",
    "from liver.utils.common import read_yaml, create_directories, save_json"
   ]
  },
  {
   "cell_type": "code",
   "execution_count": 6,
   "metadata": {},
   "outputs": [],
   "source": [
    "class ConfigurationManager:\n",
    "    def __init__(self,\n",
    "                 config=CONFIG_FILE_PATH,\n",
    "                 params=PARAMS_FILE_PATH,\n",
    "                 schema=SCHEMA_FILE_PATH):\n",
    "        self.config= read_yaml(config)\n",
    "        self.params= read_yaml(params)\n",
    "        self.schema= read_yaml(schema)\n",
    "        \n",
    "        \n",
    "    def get_model_evaluation_config(self) -> ModelEvaluationConfig:\n",
    "        config = self.config.model_evaluation\n",
    "        params = self.params\n",
    "        schema = self.schema\n",
    "        \n",
    "        create_directories([config.root_dir])\n",
    "        \n",
    "        model_evaluation_config = ModelEvaluationConfig(\n",
    "            root_dir=config.root_dir,\n",
    "            test_path=config.test_path,\n",
    "            model_path=config.model_path,\n",
    "            metric_file_name=config.metric_file_name,\n",
    "            mlflow_uri=config.mlflow_uri,\n",
    "            experiment_name=config.experiment_name,\n",
    "            run_name=config.run_name,\n",
    "            target=schema.TARGET.name,\n",
    "            all_params=self.params.Random_forest\n",
    "        )\n",
    "        \n",
    "        return model_evaluation_config"
   ]
  },
  {
   "cell_type": "code",
   "execution_count": 7,
   "metadata": {},
   "outputs": [],
   "source": [
    "from liver import logger\n",
    "from sklearn.metrics import f1_score, precision_score, recall_score\n",
    "import pandas as pd\n",
    "import joblib\n",
    "from urllib.parse import urlparse\n",
    "import mlflow"
   ]
  },
  {
   "cell_type": "code",
   "execution_count": 8,
   "metadata": {},
   "outputs": [],
   "source": [
    "class ModelEvaluation:\n",
    "    def __init__(self, config: ModelEvaluationConfig):\n",
    "        self.config = config\n",
    "        \n",
    "    def eval_metrics(self, y_true, y_pred):\n",
    "        f1 = f1_score(y_true, y_pred)\n",
    "        precision = precision_score(y_true, y_pred)\n",
    "        recall = recall_score(y_true, y_pred)\n",
    "        \n",
    "        return f1, precision, recall\n",
    "    \n",
    "    def log_into_mlflow(self):\n",
    "        \n",
    "        test_data = pd.read_csv(self.config.test_path)\n",
    "        model = joblib.load(self.config.model_path)\n",
    "        logger.info(self.config.mlflow_uri)\n",
    "        test_x = test_data.drop([self.config.target], axis=1)\n",
    "        test_y = test_data[[self.config.target]]\n",
    "        \n",
    "        mlflow.set_experiment(self.config.experiment_name)\n",
    "        mlflow.set_registry_uri(self.config.mlflow_uri)\n",
    "        tracking_url_type_store = urlparse(mlflow.get_tracking_uri()).scheme\n",
    "        \n",
    "        \n",
    "        with mlflow.start_run():\n",
    "\n",
    "            pred = model.predict(test_x)\n",
    "\n",
    "            (f1, precision, recall) = self.eval_metrics(test_y, pred)\n",
    "            \n",
    "            # Saving metrics as local\n",
    "            scores = {\"f1\": f1, \"precision\": precision, \"recall\": recall}\n",
    "            save_json(path=Path(self.config.metric_file_name), data=scores)\n",
    "\n",
    "            mlflow.log_params(self.config.all_params)\n",
    "\n",
    "            mlflow.log_metric(\"f1\", f1)\n",
    "            mlflow.log_metric(\"precision\", precision)\n",
    "            mlflow.log_metric(\"recall\", recall)\n",
    "\n",
    "\n",
    "            # Model registry does not work with file store\n",
    "            if tracking_url_type_store != \"file\":\n",
    "\n",
    "                # Register the model\n",
    "                # There are other ways to use the Model Registry, which depends on the use case,\n",
    "                # https://mlflow.org/docs/latest/model-registry.html#api-workflow\n",
    "                mlflow.sklearn.log_model(model, \"model\", registered_model_name=\"RandomForest\")\n",
    "            else:\n",
    "                mlflow.sklearn.log_model(model, \"model\")"
   ]
  },
  {
   "cell_type": "code",
   "execution_count": 11,
   "metadata": {},
   "outputs": [
    {
     "name": "stdout",
     "output_type": "stream",
     "text": [
      "[2023-10-21 08:54:41,914: INFO: common: yaml file: config/config.yaml loaded successfully]\n",
      "[2023-10-21 08:54:41,918: INFO: common: yaml file: params.yaml loaded successfully]\n",
      "[2023-10-21 08:54:41,929: INFO: common: yaml file: schema.yaml loaded successfully]\n",
      "[2023-10-21 08:54:41,934: INFO: common: created directory at: artifacts/model_evaluation]\n"
     ]
    },
    {
     "name": "stdout",
     "output_type": "stream",
     "text": [
      "[2023-10-21 08:54:42,234: INFO: 3954913682: https://dagshub.com/fraidoon_omarzai/end-to-end-liver-project.mlflow]\n"
     ]
    },
    {
     "name": "stderr",
     "output_type": "stream",
     "text": [
      "2023/10/21 08:54:54 INFO mlflow.tracking.fluent: Experiment with name 'Liver-Random-Forest' does not exist. Creating a new experiment.\n"
     ]
    },
    {
     "name": "stdout",
     "output_type": "stream",
     "text": [
      "[2023-10-21 08:54:59,311: INFO: common: json file saved at: artifacts/model_evaluation/metrics.json]\n",
      "[2023-10-21 08:56:31,595: WARNING: connectionpool: Retrying (Retry(total=4, connect=5, read=5, redirect=5, status=5)) after connection broken by 'SSLEOFError(8, 'EOF occurred in violation of protocol (_ssl.c:2396)')': /fraidoon_omarzai/end-to-end-liver-project.mlflow/api/2.0/mlflow-artifacts/artifacts/76bb089b67a84c539d42e512e967c921/94cb53df991f453c8d0a9180dd9c2b25/artifacts/model/model.pkl]\n"
     ]
    },
    {
     "name": "stderr",
     "output_type": "stream",
     "text": [
      "Successfully registered model 'RandomForest'.\n",
      "2023/10/21 08:57:06 INFO mlflow.tracking._model_registry.client: Waiting up to 300 seconds for model version to finish creation. Model name: RandomForest, version 1\n",
      "Created version '1' of model 'RandomForest'.\n"
     ]
    }
   ],
   "source": [
    "try:\n",
    "    config = ConfigurationManager()\n",
    "    model_evaluation_config = config.get_model_evaluation_config()\n",
    "    model = ModelEvaluation(model_evaluation_config)\n",
    "    model.log_into_mlflow()\n",
    "except Exception as e:\n",
    "    raise e"
   ]
  }
 ],
 "metadata": {
  "kernelspec": {
   "display_name": "liver-env",
   "language": "python",
   "name": "python3"
  },
  "language_info": {
   "codemirror_mode": {
    "name": "ipython",
    "version": 3
   },
   "file_extension": ".py",
   "mimetype": "text/x-python",
   "name": "python",
   "nbconvert_exporter": "python",
   "pygments_lexer": "ipython3",
   "version": "3.10.4"
  }
 },
 "nbformat": 4,
 "nbformat_minor": 2
}
