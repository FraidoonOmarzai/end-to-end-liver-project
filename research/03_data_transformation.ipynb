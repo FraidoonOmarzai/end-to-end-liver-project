{
 "cells": [
  {
   "cell_type": "code",
   "execution_count": 1,
   "metadata": {},
   "outputs": [
    {
     "name": "stdout",
     "output_type": "stream",
     "text": [
      "/home/techie/Desktop/general/end-to-end-liver-project/research\n"
     ]
    }
   ],
   "source": [
    "!pwd"
   ]
  },
  {
   "cell_type": "code",
   "execution_count": 2,
   "metadata": {},
   "outputs": [
    {
     "name": "stdout",
     "output_type": "stream",
     "text": [
      "/home/techie/Desktop/general/end-to-end-liver-project\n"
     ]
    }
   ],
   "source": [
    "import os\n",
    "\n",
    "os.chdir('../')\n",
    "!pwd"
   ]
  },
  {
   "cell_type": "code",
   "execution_count": 3,
   "metadata": {},
   "outputs": [],
   "source": [
    "from dataclasses import dataclass\n",
    "from pathlib import Path\n",
    "\n",
    "@dataclass\n",
    "class DataTransformationConfig:\n",
    "    root_dir: Path\n",
    "    dataset: Path"
   ]
  },
  {
   "cell_type": "code",
   "execution_count": 4,
   "metadata": {},
   "outputs": [],
   "source": [
    "from liver.constants import *\n",
    "from liver.utils.common import create_directories, read_yaml"
   ]
  },
  {
   "cell_type": "code",
   "execution_count": 5,
   "metadata": {},
   "outputs": [],
   "source": [
    "class ConfigurationManager:\n",
    "    def __init__(self,\n",
    "                 config=CONFIG_FILE_PATH):\n",
    "        \n",
    "        self.config_file = read_yaml(config)\n",
    "        \n",
    "    def get_data_transformation_config(self) -> DataTransformationConfig:\n",
    "        config = self.config_file.data_transformation\n",
    "        \n",
    "        create_directories([config.root_dir])\n",
    "        \n",
    "        data_transformation_config = DataTransformationConfig(\n",
    "            root_dir= config.root_dir,\n",
    "            dataset= config.dataset\n",
    "        )\n",
    "        \n",
    "        return data_transformation_config"
   ]
  },
  {
   "cell_type": "code",
   "execution_count": 6,
   "metadata": {},
   "outputs": [],
   "source": [
    "from liver import logger\n",
    "import pandas as pd\n",
    "from imblearn.over_sampling import RandomOverSampler\n",
    "from collections import Counter\n",
    "from sklearn.model_selection import train_test_split\n",
    "import os"
   ]
  },
  {
   "cell_type": "code",
   "execution_count": 7,
   "metadata": {},
   "outputs": [],
   "source": [
    "class DataTransformation:\n",
    "    def __init__(self,\n",
    "                 config:DataTransformationConfig) -> None:\n",
    "        self.config = config\n",
    "        \n",
    "    def cleaning(self) -> pd.DataFrame:\n",
    "        df = pd.read_csv(self.config.dataset)\n",
    "        # print(df.head())\n",
    "        # print(df.isnull().sum())\n",
    "        df = df.dropna()  ## drop null values\n",
    "        # print(df.isnull().sum())\n",
    "        logger.info(f\"Null values removed: {df.isnull().sum()}\")\n",
    "        \n",
    "        df.replace(to_replace={'Female':0, 'Male':1}, inplace=True) ## label encoding\n",
    "        logger.info(\"labeled gander columns\")\n",
    "        \n",
    "        return df\n",
    "    \n",
    "    def handle_imbalanced(self, df):\n",
    "        X = df.drop(['Dataset'], axis=1)\n",
    "        y = df['Dataset']\n",
    "\n",
    "        logger.info('Original dataset shape %s' % Counter(y))\n",
    "        \n",
    "        os =  RandomOverSampler()\n",
    "        X, y = os.fit_resample(X, y)\n",
    "\n",
    "        logger.info('Resampled dataset shape %s' % Counter(y))\n",
    "        df = X\n",
    "        df['Dataset'] = y\n",
    "        \n",
    "        return df\n",
    "    \n",
    "    def train_test_splits(self, df):\n",
    "        train, test = train_test_split(df)\n",
    "        train.to_csv(os.path.join(self.config.root_dir, \"train.csv\"),index = False)\n",
    "        test.to_csv(os.path.join(self.config.root_dir, \"test.csv\"),index = False)\n",
    "        logger.info(\"Splited data into training and test sets\")\n",
    "        logger.info(f'train shape: {train.shape}')\n",
    "        logger.info(f'test shape: {test.shape}')"
   ]
  },
  {
   "cell_type": "code",
   "execution_count": 8,
   "metadata": {},
   "outputs": [
    {
     "name": "stdout",
     "output_type": "stream",
     "text": [
      "[2023-10-20 19:48:02,887: INFO: common: yaml file: config/config.yaml loaded successfully]\n",
      "[2023-10-20 19:48:02,890: INFO: common: created directory at: artifacts/data_transformation]\n",
      "[2023-10-20 19:48:02,906: INFO: 254018392: Null values removed: Age                           0\n",
      "Gender                        0\n",
      "Total_Bilirubin               0\n",
      "Direct_Bilirubin              0\n",
      "Alkaline_Phosphotase          0\n",
      "Alamine_Aminotransferase      0\n",
      "Aspartate_Aminotransferase    0\n",
      "Total_Protiens                0\n",
      "Albumin                       0\n",
      "Albumin_and_Globulin_Ratio    0\n",
      "Dataset                       0\n",
      "dtype: int64]\n",
      "[2023-10-20 19:48:02,910: INFO: 254018392: labeled gander columns]\n",
      "[2023-10-20 19:48:02,915: INFO: 254018392: Original dataset shape Counter({1: 414, 2: 165})]\n",
      "[2023-10-20 19:48:02,928: INFO: 254018392: Resampled dataset shape Counter({1: 414, 2: 414})]\n",
      "[2023-10-20 19:48:02,956: INFO: 254018392: Splited data into training and test sets]\n",
      "[2023-10-20 19:48:02,959: INFO: 254018392: train shape: (621, 11)]\n",
      "[2023-10-20 19:48:02,960: INFO: 254018392: test shape: (207, 11)]\n"
     ]
    }
   ],
   "source": [
    "try:\n",
    "    config = ConfigurationManager()\n",
    "    data_transformation_config = config.get_data_transformation_config()\n",
    "    data_transformation = DataTransformation(config=data_transformation_config)\n",
    "    data = data_transformation.cleaning()\n",
    "    data = data_transformation.handle_imbalanced(df=data)\n",
    "    data_transformation.train_test_splits(df=data)\n",
    "except Exception as e:\n",
    "    raise e"
   ]
  }
 ],
 "metadata": {
  "kernelspec": {
   "display_name": "liver-env",
   "language": "python",
   "name": "python3"
  },
  "language_info": {
   "codemirror_mode": {
    "name": "ipython",
    "version": 3
   },
   "file_extension": ".py",
   "mimetype": "text/x-python",
   "name": "python",
   "nbconvert_exporter": "python",
   "pygments_lexer": "ipython3",
   "version": "3.10.4"
  }
 },
 "nbformat": 4,
 "nbformat_minor": 2
}
