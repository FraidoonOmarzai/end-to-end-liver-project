{
 "cells": [
  {
   "cell_type": "code",
   "execution_count": 1,
   "metadata": {},
   "outputs": [
    {
     "name": "stdout",
     "output_type": "stream",
     "text": [
      "/home/techie/Desktop/general/end-to-end-liver-project/research\n"
     ]
    }
   ],
   "source": [
    "!pwd"
   ]
  },
  {
   "cell_type": "code",
   "execution_count": 2,
   "metadata": {},
   "outputs": [
    {
     "name": "stdout",
     "output_type": "stream",
     "text": [
      "/home/techie/Desktop/general/end-to-end-liver-project\n"
     ]
    }
   ],
   "source": [
    "import os\n",
    "\n",
    "os.chdir(\"../\")\n",
    "!pwd"
   ]
  },
  {
   "cell_type": "code",
   "execution_count": 3,
   "metadata": {},
   "outputs": [],
   "source": [
    "from dataclasses import dataclass\n",
    "from pathlib import Path\n",
    "\n",
    "@dataclass(frozen=True)\n",
    "class DataIngestionConfig:\n",
    "    root_dir: Path\n",
    "    source_URL: str\n",
    "    local_data_file: Path\n",
    "    unzip_dir: Path"
   ]
  },
  {
   "cell_type": "code",
   "execution_count": 4,
   "metadata": {},
   "outputs": [],
   "source": [
    "from liver.constants import *\n",
    "from liver.utils.common import read_yaml, create_directories"
   ]
  },
  {
   "cell_type": "code",
   "execution_count": 5,
   "metadata": {},
   "outputs": [],
   "source": [
    "class ConfigurationManager:\n",
    "    def __init__(self, config_file= CONFIG_FILE_PATH):\n",
    "        self.config_path = read_yaml(config_file)\n",
    "        \n",
    "        create_directories([self.config_path.artifacts_root])\n",
    "        \n",
    "    \n",
    "    def dataIngestionConfig(self) -> DataIngestionConfig:\n",
    "        config = self.config_path.data_ingestion\n",
    "        \n",
    "        create_directories([config.root_dir])\n",
    "        \n",
    "        data_ingestion_config = DataIngestionConfig(\n",
    "            root_dir = config.root_dir,\n",
    "            source_URL = config.source_URL,\n",
    "            local_data_file = config.local_data_file,\n",
    "            unzip_dir = config.unzip_dir\n",
    "        )   \n",
    "        \n",
    "        return data_ingestion_config     "
   ]
  },
  {
   "cell_type": "code",
   "execution_count": 6,
   "metadata": {},
   "outputs": [],
   "source": [
    "import os\n",
    "import urllib.request as request\n",
    "from liver import logger\n",
    "from liver.utils.common import get_size\n",
    "import zipfile"
   ]
  },
  {
   "cell_type": "code",
   "execution_count": 9,
   "metadata": {},
   "outputs": [],
   "source": [
    "class DataIngestion:\n",
    "    def __init__(self, confg: DataIngestionConfig):\n",
    "        self.config = confg\n",
    "        \n",
    "    \n",
    "    def download_dataset(self):\n",
    "        \n",
    "        if not os.path.exists(self.config.local_data_file):\n",
    "            filename, headers= request.urlretrieve(\n",
    "                                    url= self.config.source_URL,\n",
    "                                    filename=self.config.local_data_file\n",
    "                                )\n",
    "            logger.info(f\"{filename} download! with following info: \\n{headers}\")\n",
    "        else:\n",
    "            logger.info(f\"file already exist, size--> {get_size(Path(self.config.local_data_file))}\")\n",
    "    \n",
    "    \n",
    "    def extract_zip(self):\n",
    "        \n",
    "        unzip_path = self.config.unzip_dir\n",
    "        os.makedirs(unzip_path, exist_ok=True)\n",
    "        \n",
    "        with zipfile.ZipFile(self.config.local_data_file, 'r') as zip_ref:\n",
    "            zip_ref.extractall(unzip_path)"
   ]
  },
  {
   "cell_type": "code",
   "execution_count": 8,
   "metadata": {},
   "outputs": [
    {
     "name": "stdout",
     "output_type": "stream",
     "text": [
      "[2023-10-19 18:09:28,574: INFO: common: yaml file: config/config.yaml loaded successfully]\n",
      "[2023-10-19 18:09:28,578: INFO: common: created directory at: artifacts]\n",
      "[2023-10-19 18:09:28,582: INFO: common: created directory at: artifacts/data_ingestion]\n",
      "[2023-10-19 18:09:30,391: INFO: 1375348243: artifacts/data_ingestion/liver.zip download! with following info: \n",
      "Connection: close\n",
      "Content-Length: 7702\n",
      "Cache-Control: max-age=300\n",
      "Content-Security-Policy: default-src 'none'; style-src 'unsafe-inline'; sandbox\n",
      "Content-Type: application/zip\n",
      "ETag: \"4247b84e56b3a8a30ec50dffd29342df15c3d56bc81a020fbeb426b6315c3b11\"\n",
      "Strict-Transport-Security: max-age=31536000\n",
      "X-Content-Type-Options: nosniff\n",
      "X-Frame-Options: deny\n",
      "X-XSS-Protection: 1; mode=block\n",
      "X-GitHub-Request-Id: 0C28:1226E:A07F1F:A68790:65315FBD\n",
      "Accept-Ranges: bytes\n",
      "Date: Thu, 19 Oct 2023 17:09:30 GMT\n",
      "Via: 1.1 varnish\n",
      "X-Served-By: cache-lon4222-LON\n",
      "X-Cache: HIT\n",
      "X-Cache-Hits: 1\n",
      "X-Timer: S1697735370.342284,VS0,VE1\n",
      "Vary: Authorization,Accept-Encoding,Origin\n",
      "Access-Control-Allow-Origin: *\n",
      "Cross-Origin-Resource-Policy: cross-origin\n",
      "X-Fastly-Request-ID: b0d9209ec44cb67c20aacbab1a2a1bc4c1ac8ba2\n",
      "Expires: Thu, 19 Oct 2023 17:14:30 GMT\n",
      "Source-Age: 207\n",
      "\n",
      "]\n"
     ]
    }
   ],
   "source": [
    "try:\n",
    "    config = ConfigurationManager()\n",
    "    data_ingestion_config = config.dataIngestionConfig()\n",
    "    data_ingestinion = DataIngestion(confg=data_ingestion_config)\n",
    "    data_ingestinion.download_dataset()\n",
    "    data_ingestinion.extract_zip()\n",
    "except Exception as e:\n",
    "    raise e"
   ]
  }
 ],
 "metadata": {
  "kernelspec": {
   "display_name": "liver-env",
   "language": "python",
   "name": "python3"
  },
  "language_info": {
   "codemirror_mode": {
    "name": "ipython",
    "version": 3
   },
   "file_extension": ".py",
   "mimetype": "text/x-python",
   "name": "python",
   "nbconvert_exporter": "python",
   "pygments_lexer": "ipython3",
   "version": "3.10.4"
  }
 },
 "nbformat": 4,
 "nbformat_minor": 2
}
