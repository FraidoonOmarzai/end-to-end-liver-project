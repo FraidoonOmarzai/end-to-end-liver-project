{
 "cells": [
  {
   "cell_type": "code",
   "execution_count": 1,
   "metadata": {},
   "outputs": [
    {
     "name": "stdout",
     "output_type": "stream",
     "text": [
      "/home/techie/Desktop/general/end-to-end-liver-project/research\n"
     ]
    }
   ],
   "source": [
    "!pwd"
   ]
  },
  {
   "cell_type": "code",
   "execution_count": 2,
   "metadata": {},
   "outputs": [
    {
     "name": "stdout",
     "output_type": "stream",
     "text": [
      "/home/techie/Desktop/general/end-to-end-liver-project\n"
     ]
    }
   ],
   "source": [
    "import os\n",
    "\n",
    "os.chdir('../')\n",
    "!pwd"
   ]
  },
  {
   "cell_type": "code",
   "execution_count": 44,
   "metadata": {},
   "outputs": [],
   "source": [
    "from dataclasses import dataclass\n",
    "from pathlib import Path\n",
    "\n",
    "@dataclass\n",
    "class ModelTrainConfig:\n",
    "    root_dir: Path\n",
    "    train_path: Path\n",
    "    test_path: Path\n",
    "    model_name: str\n",
    "    target: str\n",
    "    n_estimators: float\n",
    "    min_samples_split: float\n",
    "    min_samples_leaf: float\n",
    "    max_depth: float"
   ]
  },
  {
   "cell_type": "code",
   "execution_count": 45,
   "metadata": {},
   "outputs": [],
   "source": [
    "from liver.constants import *\n",
    "from liver.utils.common import read_yaml, create_directories"
   ]
  },
  {
   "cell_type": "code",
   "execution_count": 47,
   "metadata": {},
   "outputs": [],
   "source": [
    "class ConfigurationManager:\n",
    "    def __init__(self,\n",
    "                 config=CONFIG_FILE_PATH,\n",
    "                 schema=SCHEMA_FILE_PATH,\n",
    "                 params=PARAMS_FILE_PATH):\n",
    "        self.config_path = read_yaml(config)\n",
    "        self.schema = read_yaml(schema)\n",
    "        self.params_path = read_yaml(params)\n",
    "        \n",
    "    def get_model_train_config(self) -> ModelTrainConfig:\n",
    "        config = self.config_path.model_training\n",
    "        schema = self.schema\n",
    "        params = self.params_path\n",
    "        \n",
    "        create_directories([config.root_dir])\n",
    "        \n",
    "        model_train_config = ModelTrainConfig(\n",
    "            root_dir=config.root_dir,\n",
    "            train_path=config.train_path,\n",
    "            test_path=config.test_path,\n",
    "            model_name=config.model_name,\n",
    "            target=schema.TARGET.name,\n",
    "            n_estimators=params.Random_forest.n_estimators,\n",
    "            min_samples_split=params.Random_forest.min_samples_split,\n",
    "            min_samples_leaf=params.Random_forest.min_samples_leaf,\n",
    "            max_depth=params.Random_forest.max_depth\n",
    "        )\n",
    "        \n",
    "        return model_train_config"
   ]
  },
  {
   "cell_type": "code",
   "execution_count": 54,
   "metadata": {},
   "outputs": [],
   "source": [
    "from liver import logger\n",
    "import pandas as pd\n",
    "from sklearn.ensemble import RandomForestClassifier\n",
    "import joblib\n",
    "import os"
   ]
  },
  {
   "cell_type": "code",
   "execution_count": 59,
   "metadata": {},
   "outputs": [],
   "source": [
    "class ModelTraining:\n",
    "    def __init__(self,\n",
    "                 config: ModelTrainConfig) -> None:\n",
    "        self.config = config\n",
    "        \n",
    "    def train(self):\n",
    "        train_data = pd.read_csv(self.config.train_path)\n",
    "        test_data = pd.read_csv(self.config.test_path)\n",
    "        \n",
    "        X_train = train_data.drop([self.config.target], axis=1)\n",
    "        y_train = train_data[[self.config.target]]\n",
    "        \n",
    "        model = RandomForestClassifier(\n",
    "            n_estimators=self.config.n_estimators,\n",
    "            min_samples_split=self.config.min_samples_split,\n",
    "            min_samples_leaf=self.config.min_samples_leaf,\n",
    "            max_depth=self.config.max_depth\n",
    "        )\n",
    "        \n",
    "        model.fit(X_train, y_train)\n",
    "        \n",
    "        logger.info(f'Train model score: {model.score(X_train, y_train)}')\n",
    "        \n",
    "        joblib.dump(model, os.path.join(self.config.root_dir, self.config.model_name))\n"
   ]
  },
  {
   "cell_type": "code",
   "execution_count": 60,
   "metadata": {},
   "outputs": [
    {
     "name": "stdout",
     "output_type": "stream",
     "text": [
      "[2023-10-20 20:51:42,918: INFO: common: yaml file: config/config.yaml loaded successfully]\n",
      "[2023-10-20 20:51:42,929: INFO: common: yaml file: schema.yaml loaded successfully]\n",
      "[2023-10-20 20:51:42,936: INFO: common: yaml file: params.yaml loaded successfully]\n",
      "[2023-10-20 20:51:42,939: INFO: common: created directory at: artifacts/model_training]\n"
     ]
    },
    {
     "name": "stderr",
     "output_type": "stream",
     "text": [
      "/home/techie/anaconda3/envs/liver-env/lib/python3.10/site-packages/sklearn/base.py:1152: DataConversionWarning: A column-vector y was passed when a 1d array was expected. Please change the shape of y to (n_samples,), for example using ravel().\n",
      "  return fit_method(estimator, *args, **kwargs)\n"
     ]
    },
    {
     "name": "stdout",
     "output_type": "stream",
     "text": [
      "[2023-10-20 20:51:44,498: INFO: 1105581700: Train model score: 0.9710144927536232]\n"
     ]
    }
   ],
   "source": [
    "try:\n",
    "    config = ConfigurationManager()\n",
    "    model_train_config = config.get_model_train_config()\n",
    "    model = ModelTraining(model_train_config)\n",
    "    model.train()\n",
    "except Exception as e:\n",
    "    raise e"
   ]
  }
 ],
 "metadata": {
  "kernelspec": {
   "display_name": "liver-env",
   "language": "python",
   "name": "python3"
  },
  "language_info": {
   "codemirror_mode": {
    "name": "ipython",
    "version": 3
   },
   "file_extension": ".py",
   "mimetype": "text/x-python",
   "name": "python",
   "nbconvert_exporter": "python",
   "pygments_lexer": "ipython3",
   "version": "3.10.4"
  }
 },
 "nbformat": 4,
 "nbformat_minor": 2
}
